{
 "cells": [
  {
   "cell_type": "code",
   "execution_count": 1,
   "metadata": {},
   "outputs": [],
   "source": [
    "# Load packages\n",
    "import json\n",
    "import os\n",
    "from os.path import join\n",
    "import numpy as np\n",
    "import re\n",
    "import pandas as pd"
   ]
  },
  {
   "cell_type": "markdown",
   "metadata": {
    "collapsed": true
   },
   "source": [
    "# KSBL\n"
   ]
  },
  {
   "cell_type": "code",
   "execution_count": 2,
   "metadata": {},
   "outputs": [],
   "source": [
    "# Define input paths\n",
    "PATH_to_spectra = '/Users/aline/MALDI-TOF-Machine_learning/01_Rawdata/01_Spectra/Validation_Set/KSBL/encoded/Spectra/'\n",
    "\n",
    "# Define input report\n",
    "PATH_to_report = '/Users/aline/MALDI-TOF-Machine_learning/01_Rawdata/02_Resistances/Validation_Set/KSBL/'\n",
    "\n",
    "# Define output paths\n",
    "PATH_to_dict_output = '/Users/aline/MALDI-TOF-Machine_learning/01_Rawdata/01_Spectra/Validation_Set/KSBL/dicts_code_TGNR.csv'"
   ]
  },
  {
   "cell_type": "code",
   "execution_count": 3,
   "metadata": {},
   "outputs": [],
   "source": [
    "# Make dicts, translating from Bruker encoding to samplename\n",
    "return_list_1 = []\n",
    "runinfo_all_1 = []\n",
    "\n",
    "for root, dirs, files in os.walk(PATH_to_spectra):\n",
    "    for name in files:\n",
    "        if name.startswith((\"info\")):\n",
    "            with open(os.path.join(root, name)) as json_file:\n",
    "                runinfo_all_1.append(json.load(json_file))\n",
    "\n",
    "dicts_1 = []\n",
    "dicts_all_1= []\n",
    "for runinfo in runinfo_all_1: \n",
    "        dicts_1.append({runinfo['AnalyteUid']:runinfo['AnalyteId']})\n",
    "\n",
    "dicts_all_1 = {}\n",
    "for d in dicts_1:\n",
    "    dicts_all_1.update(d)\n",
    "    \n",
    "# Create a second dictionary, including the date the spectra was acquired\n",
    "dicts_2 = []\n",
    "for runinfo in runinfo_all_1: \n",
    "        dicts_2.append({runinfo['AnalyteUid']:runinfo['ProjectName']})\n",
    "\n",
    "dicts_all_2 = {}\n",
    "for d in dicts_2:\n",
    "    dicts_all_2.update(d)"
   ]
  },
  {
   "cell_type": "code",
   "execution_count": 4,
   "metadata": {},
   "outputs": [],
   "source": [
    "# Add string to code to make it unambiguous when combining with spectra from other devices\n",
    "dicts_all_15 = dict((\"{}{}\".format(k,'_MALDI1'),v) for k,v in dicts_all_1.items())\n",
    "\n",
    "# Build dataframes from dictionaries which contain: Brukercode, samplename and acquisition date\n",
    "df_date = pd.DataFrame([dicts_all_2]).T\n",
    "df_date.index.name = 'Bruker'\n",
    "df_date.reset_index(inplace=True)\n",
    "df_date.columns = ['Bruker', 'Projectname']\n",
    "\n",
    "df_samplename = pd.DataFrame([dicts_all_1]).T\n",
    "df_samplename.index.name = 'Bruker'\n",
    "df_samplename.reset_index(inplace=True)\n",
    "df_samplename.columns = ['Bruker', 'Samplename']\n",
    "\n",
    "df = pd.DataFrame.merge(df_samplename,df_date, on='Bruker')"
   ]
  },
  {
   "cell_type": "code",
   "execution_count": 11,
   "metadata": {},
   "outputs": [],
   "source": [
    "# Load species identification reports, outputted from the Bruker Database\n",
    "report_01 = pd.read_csv('/Users/aline/MALDI-TOF-Machine_learning/02_Scripts/KSBL/KSBL-1.csv', sep=';', header=None)\n",
    "report_02 = pd.read_csv('/Users/aline/MALDI-TOF-Machine_learning/02_Scripts/KSBL/KSBL-1.csv', sep=';', header=None)\n",
    "report_03 = pd.read_csv('/Users/aline/MALDI-TOF-Machine_learning/02_Scripts/KSBL/KSBL-3.csv', sep=';', header=None)\n",
    "report_04 = pd.read_csv('/Users/aline/MALDI-TOF-Machine_learning/02_Scripts/KSBL/KSBL-4.csv', sep=';', header=None)\n",
    "report_05 = pd.read_csv('/Users/aline/MALDI-TOF-Machine_learning/02_Scripts/KSBL/KSBL-5.csv', sep=';', header=None)\n",
    "\n",
    "\n",
    "report=pd.DataFrame()\n",
    "report=report.append(report_01)\n",
    "report=report.append(report_02)\n",
    "report=report.append(report_03)\n",
    "report=report.append(report_04)\n",
    "report=report.append(report_05)\n",
    "\n",
    "#Drop 8th column as it is empty\n",
    "report = report.drop(report.columns[7], axis=1)\n",
    "\n",
    "# Rename columns and drop duplicates\n",
    "report.columns = ['Bruker', 'Value','A','Organism_best_match', 'Score1', 'Organism(second best match)', 'Score2']\n",
    "report = pd.DataFrame(report.drop_duplicates())\n"
   ]
  },
  {
   "cell_type": "code",
   "execution_count": 6,
   "metadata": {},
   "outputs": [],
   "source": [
    "# Merge report to dict_df_all using Bruker code\n",
    "report_TGNR = pd.merge(df, report, how='right', on='Bruker')"
   ]
  },
  {
   "cell_type": "code",
   "execution_count": 7,
   "metadata": {},
   "outputs": [],
   "source": [
    "# Load in AMR profiles\n",
    "res = pd.read_csv('/Users/aline/MALDI-TOF-Machine_learning/01_Rawdata/02_Resistances/Validation_Set/KSBL/DatenexportResiKSBLJanbisJun2018fuerMALDIStudie.csv')\n",
    "res['Auftrag'] = res['Auftrag'].astype(str)\n",
    "res['Auftrag'] = res['Auftrag'].str.extract('(\\d{7})', expand=False).str.strip()\n",
    "res['Keim']=res['Keim'].str.strip(' ')\n",
    "res['SPEZIES_RES'] = res['Keim'].str.split('\\s').str[1]\n",
    "res['GENUS'] = res['Keim'].str.split('\\s').str[0]"
   ]
  },
  {
   "cell_type": "code",
   "execution_count": 8,
   "metadata": {},
   "outputs": [],
   "source": [
    "# Extract species and genus identifies by the Bruker Database. Create 'GENUS' column for matching\n",
    "report_TGNR['Organism_best_match']=report_TGNR['Organism_best_match'].str.strip(' ')\n",
    "report_TGNR['SPEZIES_MALDI'] = report_TGNR['Organism_best_match'].str.split('\\s').str[1]\n",
    "report_TGNR['GENUS'] = report_TGNR['Organism_best_match'].str.split('\\s').str[0]\n",
    "report_TGNR['Auftrag'] = report_TGNR['Samplename'].str.split('\\-').str[0]"
   ]
  },
  {
   "cell_type": "code",
   "execution_count": 9,
   "metadata": {},
   "outputs": [],
   "source": [
    "# Merge report_TGNR with res file using the Auftragsnummer and Genus\n",
    "res_report = pd.merge(res,report_TGNR, on=('Auftrag', 'GENUS'), how='right')"
   ]
  },
  {
   "cell_type": "code",
   "execution_count": 10,
   "metadata": {},
   "outputs": [],
   "source": [
    "# Write output\n",
    "res_report.to_csv('/Users/aline/MALDI-TOF-Machine_learning/02_Scripts/KSBL/KSBL_res_report.csv', sep=';')"
   ]
  },
  {
   "cell_type": "code",
   "execution_count": null,
   "metadata": {},
   "outputs": [],
   "source": []
  }
 ],
 "metadata": {
  "kernelspec": {
   "display_name": "Python 3",
   "language": "python",
   "name": "python3"
  },
  "language_info": {
   "codemirror_mode": {
    "name": "ipython",
    "version": 3
   },
   "file_extension": ".py",
   "mimetype": "text/x-python",
   "name": "python",
   "nbconvert_exporter": "python",
   "pygments_lexer": "ipython3",
   "version": "3.6.7"
  }
 },
 "nbformat": 4,
 "nbformat_minor": 2
}
