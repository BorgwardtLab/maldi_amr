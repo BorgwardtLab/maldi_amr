{
 "cells": [
  {
   "cell_type": "code",
   "execution_count": 199,
   "metadata": {},
   "outputs": [
    {
     "name": "stdout",
     "output_type": "stream",
     "text": [
      "The autoreload extension is already loaded. To reload it, use:\n",
      "  %reload_ext autoreload\n"
     ]
    }
   ],
   "source": [
    "#-----------------------------------------------------------------------------\n",
    "# Cleaning of DRIAMS-B id file\n",
    "#\n",
    "# May 2018 C. Weis\n",
    "#-----------------------------------------------------------------------------\n",
    "\n",
    "import os\n",
    "import csv\n",
    "import numpy as np\n",
    "import pandas as pd\n",
    "\n",
    "from collections                import defaultdict as ddict\n",
    "\n",
    "%load_ext autoreload\n",
    "%autoreload 2\n",
    "\n",
    "%matplotlib inline"
   ]
  },
  {
   "cell_type": "code",
   "execution_count": 200,
   "metadata": {},
   "outputs": [],
   "source": [
    "save_IDRES_table = True"
   ]
  },
  {
   "cell_type": "markdown",
   "metadata": {},
   "source": [
    "Goal: Convert Validation dataset csv files into established format of Maldi project"
   ]
  },
  {
   "cell_type": "code",
   "execution_count": 201,
   "metadata": {},
   "outputs": [],
   "source": [
    "USB_antibiotic_list = ['Ciprofloxacin', 'Cefepim', 'Meropenem', 'Piperacillin...Tazobactam', 'Cotrimoxazol', \n",
    "                       'Ceftazidim', 'Levofloxacin', 'Colistin', 'Tobramycin', 'Ceftriaxon', 'Imipenem', 'Amikacin', \n",
    "                       'Tigecyclin', 'Clindamycin', 'Amoxicillin...Clavulansaeure', 'Amoxicillin', 'Posaconazol', \n",
    "                       'Itraconazol', 'Voriconazol', 'Caspofungin', 'Amphotericin.B', 'Penicillin', 'Vancomycin', \n",
    "                       'Ertapenem', 'Metronidazol', 'Moxifloxacin', 'Rifampicin', 'Erythromycin', 'Fluconazol', \n",
    "                       'Anidulafungin', 'X5.Fluorocytosin', 'Micafungin', 'Ampicillin...Amoxicillin', 'Norfloxacin', \n",
    "                       'Fosfomycin.Trometamol', 'Cefpodoxim', 'Chloramphenicol', 'Aminoglykoside', 'Chinolone', \n",
    "                       'Daptomycin', 'Teicoplanin', 'Linezolid', 'Gentamicin', 'Gentamicin.High.level', \n",
    "                       'Nitrofurantoin', 'Cefuroxim', 'Meropenem.ohne.Meningitis', 'Meropenem.bei.Meningitis', \n",
    "                       'Ceftazidim.1', 'Fosfomycin', 'Aztreonam', 'Cefazolin', 'Tetracyclin', 'Fusidinsaeure', \n",
    "                       'Oxacillin', 'Clarithromycin', 'Isoniazid.0.1.mg.l', 'Streptomycin.1.0.mg.l', \n",
    "                       'Rifampicin.1.0.mg.l', 'Ethambutol.5.0.mg.l', 'Pyrazinamid.100.0.mg.l', 'Azithromycin', \n",
    "                       'Cefixim', 'Doxycyclin', 'Mupirocin', 'Vancomycin.GRD', 'Teicoplanin.GRD', 'Cefoxitin.Screen', \n",
    "                       'Ceftarolin', 'Ticarcillin...Clavulansaeure', 'Penicillin.bei.Endokarditis', \n",
    "                       'Penicillin.ohne.Meningitis', 'Penicillin.ohne.Endokarditis', 'Dummy', \n",
    "                       'Penicillin.bei.Pneumonie', 'Penicillin.bei.anderen.Infekten', 'Penicillin.bei.Meningitis', \n",
    "                       'Meropenem.bei.Pneumonie', 'Cefepim.1', 'Minocyclin', 'Cefuroxim.Axetil', \n",
    "                       'Amoxicillin...Clavulansaeure.bei.unkompliziertem.HWI', 'Ceftazidim.Avibactam', \n",
    "                       'Ceftolozan...Tazobactam', 'Ampicillin...Sulbactam', 'Ceftobiprol', 'Bacitracin', \n",
    "                       'Isoniazid.0.4.mg.l', 'Streptomycin.High.level', 'Isavuconazol']"
   ]
  },
  {
   "cell_type": "code",
   "execution_count": 202,
   "metadata": {},
   "outputs": [],
   "source": [
    "INPUT_file = '/links/groups/borgwardt/Projects/maldi_tof_diagnostics/amr_maldi_ml/codeAC/KSBL/KSBL_res_report.csv'\n",
    "OUTPUT_file = '/links/groups/borgwardt/Data/DRIAMS/DRIAMS-B/id/2018/2018_clean.csv'"
   ]
  },
  {
   "cell_type": "code",
   "execution_count": 204,
   "metadata": {},
   "outputs": [],
   "source": [
    "# TODO change name matching to general script, not from AB-matching.csv\n",
    "def get_antibiotics_name_matching(match_from='LIESTAL', match_to='USB'):\n",
    "    assert match_from in ['LIESTAL','USB','Viollier','Aarau','Madrid']\n",
    "    assert match_to in ['LIESTAL','USB','Viollier','Aarau','Madrid']\n",
    "    csvname = '/links/groups/borgwardt/Projects/maldi_tof_diagnostics/amr_maldi_ml/MaldiML/MaldiML/files/AB-matching.csv'\n",
    "\n",
    "    with open(csvname,'r', encoding='mac_roman') as f:\n",
    "        ff = csv.reader(f, delimiter=',', dialect=csv.excel)\n",
    "        list_antibiotics = []\n",
    "\n",
    "        d_naming = ddict(list)\n",
    "\n",
    "        for j, row in enumerate(ff):\n",
    "\n",
    "            if j==0:\n",
    "                inidx = row.index(match_from)\n",
    "                outidx = row.index(match_to)\n",
    "            else:\n",
    "                inname = row[inidx]\n",
    "                outname = row[outidx]\n",
    "                if inname == '':\n",
    "                    continue\n",
    "                else:\n",
    "                    d_naming[inname] = outname\n",
    "    return d_naming"
   ]
  },
  {
   "cell_type": "code",
   "execution_count": 205,
   "metadata": {},
   "outputs": [],
   "source": [
    "d_matching = get_antibiotics_name_matching(match_from='LIESTAL', match_to='USB')\n",
    "d_matching['Cefuroxim oral'] = ''"
   ]
  },
  {
   "cell_type": "code",
   "execution_count": 206,
   "metadata": {
    "scrolled": true
   },
   "outputs": [
    {
     "data": {
      "text/plain": [
       "defaultdict(list,\n",
       "            {'Amikacin': 'Amikacin',\n",
       "             'Amoxicillin/Clavulansaeure': 'Amoxicillin...Clavulansaeure',\n",
       "             'Ampicillin': '',\n",
       "             'Benzylpenicillin': '',\n",
       "             'Benzylpenicillin andere': '',\n",
       "             'Benzylpenicillin bei Meningitis': '',\n",
       "             'Benzylpenicillin bei Pneumonie': '',\n",
       "             'Cefepime': 'Cefepim',\n",
       "             'Cefoxitin Screening Staph': 'Cefoxitin.Screen',\n",
       "             'Cefoxitin': '',\n",
       "             'Ceftazidim': 'Ceftazidim',\n",
       "             'Ceftriaxon': 'Ceftriaxon',\n",
       "             'Cefuroxim iv': 'Cefuroxim',\n",
       "             'Cefuroxim oral': '',\n",
       "             'Ciprofloxacin': 'Ciprofloxacin',\n",
       "             'Clarithromycin': 'Clarithromycin',\n",
       "             'Clindamycin': 'Clindamycin',\n",
       "             'Clindamycin ind.': '',\n",
       "             'Trimethoprim/Sulfamethoxazol': 'Cotrimoxazol',\n",
       "             'Daptomycin': 'Daptomycin',\n",
       "             'ESBL': '',\n",
       "             'Ertapenem': 'Ertapenem',\n",
       "             'Erythromycin': 'Erythromycin',\n",
       "             'Fosfomycin': 'Fosfomycin',\n",
       "             'Fusidinsaeure': 'Fusidinsaeure',\n",
       "             'Gentamicin High Level': 'Gentamicin.High.level',\n",
       "             'Gentamicin': 'Gentamicin',\n",
       "             'Imipenem': 'Imipenem',\n",
       "             'Levofloxacin': 'Levofloxacin',\n",
       "             'Linezolid': 'Linezolid',\n",
       "             'MRSA': '',\n",
       "             'Meropenem': 'Meropenem',\n",
       "             'Metronidazol': 'Metronidazol',\n",
       "             'Minocyclin': 'Minocyclin',\n",
       "             'Mupirocin': 'Mupirocin',\n",
       "             'Nitrofurantoin': 'Nitrofurantoin',\n",
       "             'Norfloxacin': 'Norfloxacin',\n",
       "             'Oxacillin': 'Oxacillin',\n",
       "             'Piperacillin/Tazobactam': 'Piperacillin...Tazobactam',\n",
       "             'Rifampicin': 'Rifampicin',\n",
       "             'Strepomycin High Level': 'Streptomycin.High.level',\n",
       "             'Teicoplanin': 'Teicoplanin',\n",
       "             'Tetracyclin': 'Tetracyclin',\n",
       "             'Tigecyclin': 'Tigecyclin',\n",
       "             'Vancomycin': 'Vancomycin'})"
      ]
     },
     "execution_count": 206,
     "metadata": {},
     "output_type": "execute_result"
    }
   ],
   "source": [
    "d_matching"
   ]
  },
  {
   "cell_type": "markdown",
   "metadata": {},
   "source": [
    "# Kantonsspital Basel-Land KSBL\n",
    "\n",
    "Every antibiotic resistance is its only line, so one spectra has multiple lines in the file."
   ]
  },
  {
   "cell_type": "code",
   "execution_count": 207,
   "metadata": {},
   "outputs": [],
   "source": [
    "# make antibiotics inventory first\n",
    "\n",
    "with open(INPUT_file,'r') as f:\n",
    "    ff = csv.reader(f, delimiter=';', dialect=csv.excel)\n",
    "    list_antibiotics = []\n",
    "    \n",
    "    for j, row in enumerate(ff):\n",
    "        if j==0:\n",
    "            header = list(row)\n",
    "            idx_antibiotic = header.index('Antibiotic')\n",
    "        else:\n",
    "            if row[idx_antibiotic] in d_matching.keys():\n",
    "                list_antibiotics.append(d_matching[row[idx_antibiotic]])\n",
    "\n",
    "list_antibiotics_KSBL = np.unique(list_antibiotics)\n",
    "\n",
    "union_USB_KSBL = set(USB_antibiotic_list) & set(list_antibiotics_KSBL)"
   ]
  },
  {
   "cell_type": "code",
   "execution_count": 208,
   "metadata": {},
   "outputs": [],
   "source": [
    "# make list of BrukerIDs that are unique w.r.t. spectra scores, and strain from lab results\n",
    "#\n",
    "# this list is used by convert_csv function to subset the spectra that will be considered\n",
    "#\n",
    "with open(INPUT_file,'r') as f:\n",
    "    ff = csv.reader(f, delimiter=';', dialect=csv.excel)\n",
    "    \n",
    "    d = ddict(list)\n",
    "    for j, row in enumerate(ff):\n",
    "        if j==0:\n",
    "            header = list(row)\n",
    "            idx_Tagnr = header.index('Auftrag')\n",
    "            idx_Bruker = header.index('Bruker')\n",
    "            idx_species = header.index('Keim')\n",
    "            idx_score1 = header.index('Score1')\n",
    "        else:\n",
    "            d[row[idx_Bruker]].append(row[idx_Tagnr])\n",
    "            d[row[idx_Bruker]].append(row[idx_species])\n",
    "            d[row[idx_Bruker]].append(row[idx_score1])\n",
    "\n",
    "list_sampleID_unique = [key for key in d.keys() if len(np.unique(d[key]))==3]"
   ]
  },
  {
   "cell_type": "code",
   "execution_count": 209,
   "metadata": {},
   "outputs": [],
   "source": [
    "# Read in csv file\n",
    "def convert_csv(csvname, list_sampleIDs, list_antibiotics, d_ab_match, id_colname='Bruker', ab_colname='Antibiotic', rsi_colname='Resultat', species_colname='Organism_best_match' , genus_colname='GENUS'):\n",
    "    with open(csvname,'r') as f:\n",
    "        ff = csv.reader(f, delimiter=';', dialect=csv.excel)\n",
    "\n",
    "        currentBrukerID = ''\n",
    "        completeDataset_dict = ddict(list)\n",
    "\n",
    "        # initialize all antibiotics\n",
    "        for k in ['species', 'genus', 'code']:\n",
    "            completeDataset_dict[k].append('')\n",
    "        for ab in list_antibiotics:\n",
    "            completeDataset_dict[ab].append('')\n",
    "\n",
    "        for j, row in enumerate(ff):\n",
    "\n",
    "            if j==0:\n",
    "                header = list(row)\n",
    "                \n",
    "                idx_Bruker = header.index(id_colname)\n",
    "                idx_antibiotic = header.index(ab_colname)\n",
    "                idx_RSI = header.index(rsi_colname)\n",
    "\n",
    "                idx_species = header.index(species_colname)\n",
    "                idx_genus = header.index(genus_colname)\n",
    "\n",
    "            else:\n",
    "                BrukerID = list(row)[idx_Bruker]\n",
    "\n",
    "                if BrukerID not in list_sampleIDs:\n",
    "                    continue\n",
    "\n",
    "                # if sample exists, continue appending\n",
    "                elif BrukerID == currentBrukerID:\n",
    "                    if row[idx_antibiotic] in d_ab_match.keys():\n",
    "                        if d_ab_match[row[idx_antibiotic]] in list_antibiotics:\n",
    "                            completeDataset_dict[d_ab_match[row[idx_antibiotic]]].append(row[idx_RSI])\n",
    "\n",
    "                    assert currentSpecies == row[idx_species]\n",
    "                    assert currentGenus == row[idx_genus]\n",
    "\n",
    "                # start new sample\n",
    "                else:\n",
    "                    if j>1:\n",
    "                        # save sample before starting with a new one\n",
    "                        completeDataset_dict['code'].append(currentBrukerID)\n",
    "                        completeDataset_dict['genus'].append(currentGenus)\n",
    "                        completeDataset_dict['species'].append(currentSpecies)\n",
    "\n",
    "                        for ab in list_antibiotics:\n",
    "                            if len(completeDataset_dict[ab]) < len(completeDataset_dict['species']):\n",
    "                                completeDataset_dict[ab].append('nan')\n",
    "                        \n",
    "                        # each value (e.g. each column in our dataframe) has the same length\n",
    "                        x = [len(value) for key, value in completeDataset_dict.items()]\n",
    "                        assert len(np.unique(x)) == 1\n",
    "\n",
    "                    # start new sample\n",
    "                    currentBrukerID = BrukerID\n",
    "                    currentSpecies = row[idx_species]\n",
    "                    currentGenus = row[idx_genus]\n",
    "\n",
    "                    # start appending antibiotics resistances\n",
    "                    if row[idx_antibiotic] in d_ab_match.keys():\n",
    "                        if d_ab_match[row[idx_antibiotic]] in list_antibiotics:\n",
    "                            completeDataset_dict[d_ab_match[row[idx_antibiotic]]].append(row[idx_RSI])\n",
    "\n",
    "\n",
    "    # finish last sample\n",
    "    completeDataset_dict['code'].append(currentBrukerID)\n",
    "    completeDataset_dict['genus'].append(currentGenus)\n",
    "    completeDataset_dict['species'].append(currentSpecies)\n",
    "\n",
    "    for ab in list_antibiotics:\n",
    "        if len(completeDataset_dict[ab]) < len(completeDataset_dict['species']):\n",
    "            completeDataset_dict[ab].append('nan')\n",
    "\n",
    "    # each value (e.g. each column in our dataframe) has the same length\n",
    "    x = [len(value) for key, value in completeDataset_dict.items()]\n",
    "    assert len(np.unique(x)) == 1\n",
    "\n",
    "    KSBL_Dataset = pd.DataFrame.from_dict(completeDataset_dict)\n",
    "    \n",
    "    # clean up dataframe\n",
    "    KSBL_Dataset = KSBL_Dataset.drop(columns=['genus'])\n",
    "    KSBL_Dataset = KSBL_Dataset.replace({'RES': 'R', 'INT': 'I','negativ': '0', 'positiv': '1'})\n",
    "    #remove initialization line\n",
    "    KSBL_Dataset.drop(KSBL_Dataset.index[0], inplace=True) \n",
    "    \n",
    "    # assert only entries in ['0', '1', 'I', 'R', 'S', 'nan']\n",
    "    unique_vals = np.unique(KSBL_Dataset[list(KSBL_Dataset.drop(columns=['code','species']).columns)].values)\n",
    "    assert np.all([val in ['0', '1', 'I', 'R', 'S', 'nan'] for val in unique_vals])\n",
    "    \n",
    "    return KSBL_Dataset\n"
   ]
  },
  {
   "cell_type": "code",
   "execution_count": 210,
   "metadata": {},
   "outputs": [
    {
     "name": "stdout",
     "output_type": "stream",
     "text": [
      "['0' '1' 'I' 'R' 'S' 'nan']\n"
     ]
    }
   ],
   "source": [
    "# save table to file\n",
    "KSBL_Dataset = convert_csv(INPUT_file, list_sampleID_unique, union_USB_KSBL, d_matching, species_colname='Organism_best_match')\n",
    "\n",
    "if save_IDRES_table:\n",
    "    KSBL_Dataset.to_csv(OUTPUT_file, sep=',', encoding='utf-8', index=False)\n",
    "else:\n",
    "    print(KSBL_Dataset.head())"
   ]
  }
 ],
 "metadata": {
  "kernelspec": {
   "display_name": "Python 3",
   "language": "python",
   "name": "python3"
  },
  "language_info": {
   "codemirror_mode": {
    "name": "ipython",
    "version": 3
   },
   "file_extension": ".py",
   "mimetype": "text/x-python",
   "name": "python",
   "nbconvert_exporter": "python",
   "pygments_lexer": "ipython3",
   "version": "3.7.3"
  }
 },
 "nbformat": 4,
 "nbformat_minor": 2
}
